{
 "cells": [
  {
   "cell_type": "code",
   "execution_count": 2,
   "id": "c948cf6b",
   "metadata": {},
   "outputs": [
    {
     "name": "stderr",
     "output_type": "stream",
     "text": [
      "also installing the dependencies ‘viridis’, ‘ellipse’, ‘flashClust’, ‘leaps’, ‘scatterplot3d’, ‘cluster’, ‘dendextend’, ‘FactoMineR’\n",
      "\n",
      "\n",
      "Updating HTML index of packages in '.Library'\n",
      "\n",
      "Making 'packages.html' ...\n",
      " done\n",
      "\n"
     ]
    }
   ],
   "source": [
    "install.packages(\"factoextra\")"
   ]
  },
  {
   "cell_type": "code",
   "execution_count": 8,
   "id": "fb1a2506",
   "metadata": {},
   "outputs": [
    {
     "name": "stderr",
     "output_type": "stream",
     "text": [
      "also installing the dependencies ‘png’, ‘jpeg’, ‘checkmate’, ‘Formula’, ‘latticeExtra’, ‘htmlTable’\n",
      "\n",
      "\n",
      "Updating HTML index of packages in '.Library'\n",
      "\n",
      "Making 'packages.html' ...\n",
      " done\n",
      "\n"
     ]
    }
   ],
   "source": [
    "install.packages(\"Hmisc\")"
   ]
  },
  {
   "cell_type": "code",
   "execution_count": 20,
   "id": "c1d24395",
   "metadata": {},
   "outputs": [
    {
     "name": "stderr",
     "output_type": "stream",
     "text": [
      "also installing the dependency ‘proxy’\n",
      "\n",
      "\n",
      "Updating HTML index of packages in '.Library'\n",
      "\n",
      "Making 'packages.html' ...\n",
      " done\n",
      "\n"
     ]
    }
   ],
   "source": [
    "install.packages(\"e1071\")"
   ]
  },
  {
   "cell_type": "code",
   "execution_count": 4,
   "id": "c59d3058",
   "metadata": {},
   "outputs": [],
   "source": [
    "library(readxl)\n",
    "library(httr)\n",
    "library(MASS)\n",
    "library(caret)\n",
    "library(tibble)\n",
    "library(factoextra)\n",
    "library(ggpubr)"
   ]
  },
  {
   "cell_type": "code",
   "execution_count": 12,
   "id": "e746da02",
   "metadata": {},
   "outputs": [
    {
     "data": {
      "text/plain": [
       "Response [https://www.ime.usp.br/~jmsinger/MorettinSinger/inibina.xls]\n",
       "  Date: 2021-11-10 00:57\n",
       "  Status: 200\n",
       "  Content-Type: application/vnd.ms-excel\n",
       "  Size: 8.7 kB\n",
       "<ON DISK>  /tmp/RtmpsAhVK5/file4e98c943e.xlsNULL"
      ]
     },
     "metadata": {},
     "output_type": "display_data"
    },
    {
     "name": "stdout",
     "output_type": "stream",
     "text": [
      "tibble [32 × 4] (S3: tbl_df/tbl/data.frame)\n",
      " $ ident   : num [1:32] 1 2 3 4 5 6 7 8 9 10 ...\n",
      " $ resposta: chr [1:32] \"positiva\" \"positiva\" \"positiva\" \"positiva\" ...\n",
      " $ inibpre : num [1:32] 54 159.1 98.3 85.3 127.9 ...\n",
      " $ inibpos : num [1:32] 65.9 281.1 305.4 434.4 229.3 ...\n"
     ]
    }
   ],
   "source": [
    "GET(\"http://www.ime.usp.br/~jmsinger/MorettinSinger/inibina.xls\", write_disk(tf <- tempfile(fileext = \".xls\")))\n",
    "inibina = read_excel(tf)\n",
    "str(inibina)"
   ]
  },
  {
   "cell_type": "code",
   "execution_count": 13,
   "id": "d3263024",
   "metadata": {},
   "outputs": [
    {
     "data": {
      "text/plain": [
       "inibina \n",
       "\n",
       " 4  Variables      32  Observations\n",
       "--------------------------------------------------------------------------------\n",
       "ident \n",
       "       n  missing distinct     Info     Mean      Gmd      .05      .10 \n",
       "      32        0       32        1     16.5       11     2.55     4.10 \n",
       "     .25      .50      .75      .90      .95 \n",
       "    8.75    16.50    24.25    28.90    30.45 \n",
       "\n",
       "lowest :  1  2  3  4  5, highest: 28 29 30 31 32\n",
       "--------------------------------------------------------------------------------\n",
       "resposta \n",
       "       n  missing distinct \n",
       "      32        0        2 \n",
       "                            \n",
       "Value      negativa positiva\n",
       "Frequency        13       19\n",
       "Proportion    0.406    0.594\n",
       "--------------------------------------------------------------------------------\n",
       "inibpre \n",
       "       n  missing distinct     Info     Mean      Gmd      .05      .10 \n",
       "      32        0       32        1    100.5    67.83    4.139    8.937 \n",
       "     .25      .50      .75      .90      .95 \n",
       "  52.403  109.435  148.925  165.483  182.870 \n",
       "\n",
       "lowest :   3.02   3.98   4.27   7.36  23.13, highest: 161.28 165.95 181.57 184.46 186.38\n",
       "--------------------------------------------------------------------------------\n",
       "inibpos \n",
       "       n  missing distinct     Info     Mean      Gmd      .05      .10 \n",
       "      32        0       32        1    240.8    196.9    12.70    23.66 \n",
       "     .25      .50      .75      .90      .95 \n",
       "  120.97   228.89   330.77   375.38   418.85 \n",
       "\n",
       "lowest :    6.03    6.46   17.80   21.27   45.17\n",
       "highest:  358.45  377.26  406.11  434.41 1055.19\n",
       "--------------------------------------------------------------------------------"
      ]
     },
     "metadata": {},
     "output_type": "display_data"
    }
   ],
   "source": [
    "Hmisc::describe(inibina)"
   ]
  },
  {
   "cell_type": "code",
   "execution_count": 14,
   "id": "7c624336",
   "metadata": {},
   "outputs": [],
   "source": [
    "inibina$inibdif = inibina$inibpos = inibina$inibpre"
   ]
  },
  {
   "cell_type": "code",
   "execution_count": 15,
   "id": "489b3533",
   "metadata": {},
   "outputs": [],
   "source": [
    "par(mfrow=c(1,3))"
   ]
  },
  {
   "cell_type": "code",
   "execution_count": 16,
   "id": "1092bae6",
   "metadata": {},
   "outputs": [
    {
     "data": {
      "image/png": "[encoded data removed]",
      "text/plain": [
       "Plot with title “Pré”"
      ]
     },
     "metadata": {
      "image/png": {
       "height": 420,
       "width": 420
      }
     },
     "output_type": "display_data"
    },
    {
     "data": {
      "image/png": "[encoded data removed]",
      "text/plain": [
       "Plot with title “Pós”"
      ]
     },
     "metadata": {
      "image/png": {
       "height": 420,
       "width": 420
      }
     },
     "output_type": "display_data"
    },
    {
     "data": {
      "image/png": "[encoded data removed]",
      "text/plain": [
       "Plot with title “Dif”"
      ]
     },
     "metadata": {
      "image/png": {
       "height": 420,
       "width": 420
      }
     },
     "output_type": "display_data"
    }
   ],
   "source": [
    "boxplot(inibina$inibpre ~ inibina$resposta, main = \"Pré\")\n",
    "boxplot(inibina$inibpos ~ inibina$resposta, main = \"Pós\")\n",
    "boxplot(inibina$inibdif ~ inibina$resposta, main = \"Dif\")"
   ]
  },
  {
   "cell_type": "code",
   "execution_count": 21,
   "id": "07db5c8f",
   "metadata": {},
   "outputs": [
    {
     "data": {
      "text/plain": [
       "Confusion Matrix and Statistics\n",
       "\n",
       "          Reference\n",
       "Prediction negativa positiva\n",
       "  negativa        6        4\n",
       "  positiva        7       15\n",
       "                                          \n",
       "               Accuracy : 0.6562          \n",
       "                 95% CI : (0.4681, 0.8143)\n",
       "    No Information Rate : 0.5938          \n",
       "    P-Value [Acc > NIR] : 0.2978          \n",
       "                                          \n",
       "                  Kappa : 0.2605          \n",
       "                                          \n",
       " Mcnemar's Test P-Value : 0.5465          \n",
       "                                          \n",
       "            Sensitivity : 0.7895          \n",
       "            Specificity : 0.4615          \n",
       "         Pos Pred Value : 0.6818          \n",
       "         Neg Pred Value : 0.6000          \n",
       "             Prevalence : 0.5938          \n",
       "         Detection Rate : 0.4688          \n",
       "   Detection Prevalence : 0.6875          \n",
       "      Balanced Accuracy : 0.6255          \n",
       "                                          \n",
       "       'Positive' Class : positiva        \n",
       "                                          "
      ]
     },
     "metadata": {},
     "output_type": "display_data"
    }
   ],
   "source": [
    "inibina$resposta = as.factor(inibina$resposta)\n",
    "modLog = glm(resposta ~ inibdif, family = binomial, data = inibina)\n",
    "predito = predict.glm(modLog, type = \"response\")\n",
    "classPred = as.factor(ifelse(predito > 0.5, \"positiva\", \"negativa\"))\n",
    "confusionMatrix(classPred, inibina$resposta, positive = \"positiva\")"
   ]
  },
  {
   "cell_type": "code",
   "execution_count": null,
   "id": "0c295bcf",
   "metadata": {},
   "outputs": [],
   "source": [
    "# Item D"
   ]
  },
  {
   "cell_type": "code",
   "execution_count": 25,
   "id": "a249b150",
   "metadata": {},
   "outputs": [
    {
     "data": {
      "text/plain": [
       "Confusion Matrix and Statistics\n",
       "\n",
       "          Reference\n",
       "Prediction negativa positiva\n",
       "  negativa        7        5\n",
       "  positiva        6       14\n",
       "                                          \n",
       "               Accuracy : 0.6562          \n",
       "                 95% CI : (0.4681, 0.8143)\n",
       "    No Information Rate : 0.5938          \n",
       "    P-Value [Acc > NIR] : 0.2978          \n",
       "                                          \n",
       "                  Kappa : 0.2787          \n",
       "                                          \n",
       " Mcnemar's Test P-Value : 1.0000          \n",
       "                                          \n",
       "            Sensitivity : 0.7368          \n",
       "            Specificity : 0.5385          \n",
       "         Pos Pred Value : 0.7000          \n",
       "         Neg Pred Value : 0.5833          \n",
       "             Prevalence : 0.5938          \n",
       "         Detection Rate : 0.4375          \n",
       "   Detection Prevalence : 0.6250          \n",
       "      Balanced Accuracy : 0.6377          \n",
       "                                          \n",
       "       'Positive' Class : positiva        \n",
       "                                          "
      ]
     },
     "metadata": {},
     "output_type": "display_data"
    }
   ],
   "source": [
    "modFisher01 = lda(resposta ~ inibdif, data = inibina, prior = c(0.5, 0.5))\n",
    "predito = predict(modFisher01)\n",
    "confusionMatrix(predito$class, inibina$resposta, positive = \"positiva\")"
   ]
  },
  {
   "cell_type": "code",
   "execution_count": 27,
   "id": "8881c614",
   "metadata": {},
   "outputs": [],
   "source": [
    "# Item E"
   ]
  },
  {
   "cell_type": "code",
   "execution_count": 28,
   "id": "b8eeae32",
   "metadata": {},
   "outputs": [
    {
     "data": {
      "text/plain": [
       "Confusion Matrix and Statistics\n",
       "\n",
       "          Reference\n",
       "Prediction negativa positiva\n",
       "  negativa       11       10\n",
       "  positiva        2        9\n",
       "                                         \n",
       "               Accuracy : 0.625          \n",
       "                 95% CI : (0.4369, 0.789)\n",
       "    No Information Rate : 0.5938         \n",
       "    P-Value [Acc > NIR] : 0.43313        \n",
       "                                         \n",
       "                  Kappa : 0.2915         \n",
       "                                         \n",
       " Mcnemar's Test P-Value : 0.04331        \n",
       "                                         \n",
       "            Sensitivity : 0.4737         \n",
       "            Specificity : 0.8462         \n",
       "         Pos Pred Value : 0.8182         \n",
       "         Neg Pred Value : 0.5238         \n",
       "             Prevalence : 0.5938         \n",
       "         Detection Rate : 0.2812         \n",
       "   Detection Prevalence : 0.3438         \n",
       "      Balanced Accuracy : 0.6599         \n",
       "                                         \n",
       "       'Positive' Class : positiva       \n",
       "                                         "
      ]
     },
     "metadata": {},
     "output_type": "display_data"
    }
   ],
   "source": [
    "modBayes01 = lda(resposta ~ inibdif, data = inibina, prior = c(0.65, 0.35))\n",
    "predito = predict(modBayes01)\n",
    "confusionMatrix(predito$class, inibina$resposta, positive = \"positiva\")"
   ]
  },
  {
   "cell_type": "code",
   "execution_count": null,
   "id": "bb249910",
   "metadata": {},
   "outputs": [],
   "source": [
    "modKnn = knn3(rsposta ~ inibdif, )\n",
    "predito = predict(modKnn)\n",
    "confusionMatrix(predito$class, inibina$resposta, positive = \"positiva\")"
   ]
  }
 ],
 "metadata": {
  "kernelspec": {
   "display_name": "R",
   "language": "R",
   "name": "ir"
  },
  "language_info": {
   "codemirror_mode": "r",
   "file_extension": ".r",
   "mimetype": "text/x-r-source",
   "name": "R",
   "pygments_lexer": "r",
   "version": "4.1.0"
  }
 },
 "nbformat": 4,
 "nbformat_minor": 5
}
